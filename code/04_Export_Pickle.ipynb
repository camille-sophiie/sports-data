{
 "cells": [
  {
   "cell_type": "markdown",
   "metadata": {},
   "source": [
    "# Export to Pickle\n",
    "\n",
    "To deploy our machine learning model in a Streamlit app, we need to export the Ridge Regression model, which was the best-performing model according to our analysis in the `03_Modelling` notebook, to a pickle file."
   ]
  },
  {
   "cell_type": "code",
   "execution_count": 6,
   "metadata": {},
   "outputs": [],
   "source": [
    "import os\n",
    "import pandas as pd\n",
    "import pickle\n",
    "\n",
    "\n",
    "# Define the path to the data folder\n",
    "data_folder = r'C:\\cloudresume\\react\\resume\\sports-data\\data'\n",
    "\n",
    "# Load the cleaned data from a CSV file into a DataFrame\n",
    "df = pd.read_csv(r'C:\\cloudresume\\react\\resume\\sports-data\\data\\cleaned_df.csv')\n",
    "\n",
    "# Define the features to be used in the model\n",
    "features = [\n",
    "    'number_games_played',\n",
    "    'total_minutes',\n",
    "    'avg_goals_per_game',\n",
    "    'goals',\n",
    "    'assists',\n",
    "    'age',\n",
    "    'avg_games_per_year',\n",
    "    'avg_goals_per_year', \n",
    "    'position'\n",
    "]"
   ]
  },
  {
   "cell_type": "markdown",
   "metadata": {},
   "source": [
    "## Drop Rows with Missing Values\n",
    "\n",
    "For simplicity, we drop missing values. "
   ]
  },
  {
   "cell_type": "code",
   "execution_count": 10,
   "metadata": {},
   "outputs": [
    {
     "name": "stdout",
     "output_type": "stream",
     "text": [
      "Shape before dropping NA: (7540, 23)\n",
      "Shape after dropping NA: (7540, 23)\n"
     ]
    }
   ],
   "source": [
    "# Drop all rows with any NA values\n",
    "df = df.dropna()\n",
    "\n",
    "# Verify the operation by showing the shape before and after dropping NA\n",
    "print(\"Shape before dropping NA:\", df.shape)\n",
    "print(\"Shape after dropping NA:\", df_cleaned.shape)"
   ]
  },
  {
   "cell_type": "markdown",
   "metadata": {},
   "source": [
    "## Ridge Regression Model\n",
    "\n",
    "We'll prepare the dataset by encoding categorical variables and normalizing numerical variables if necessary, then train a Ridge Regression model."
   ]
  },
  {
   "cell_type": "code",
   "execution_count": 11,
   "metadata": {},
   "outputs": [
    {
     "name": "stdout",
     "output_type": "stream",
     "text": [
      "Mean squared error (MSE): 125274289739646.83\n",
      "Coefficient of determination (R^2): 0.5022027677652146\n"
     ]
    }
   ],
   "source": [
    "import pandas as pd\n",
    "from sklearn.model_selection import train_test_split\n",
    "from sklearn.linear_model import Ridge\n",
    "from sklearn.preprocessing import OneHotEncoder\n",
    "from sklearn.compose import ColumnTransformer\n",
    "from sklearn.pipeline import Pipeline\n",
    "from sklearn.metrics import mean_squared_error, r2_score\n",
    "from joblib import dump\n",
    "\n",
    "\n",
    "target = 'highest_market_value'\n",
    "\n",
    "# Split data into features and target\n",
    "X = df[features]\n",
    "y = df[target]\n",
    "\n",
    "# Encode the 'position' categorical data\n",
    "categorical_features = ['position']\n",
    "numerical_features = list(set(features) - set(categorical_features))\n",
    "\n",
    "# Preprocessing for numerical data\n",
    "numerical_transformer = 'passthrough'  # or use StandardScaler(), MinMaxScaler(), etc.\n",
    "\n",
    "# Preprocessing for categorical data\n",
    "categorical_transformer = OneHotEncoder(handle_unknown='ignore')\n",
    "\n",
    "# Bundle preprocessing for numerical and categorical data\n",
    "preprocessor = ColumnTransformer(\n",
    "    transformers=[\n",
    "        ('num', numerical_transformer, numerical_features),\n",
    "        ('cat', categorical_transformer, categorical_features)\n",
    "    ])\n",
    "\n",
    "# Create and train the Ridge Regression model\n",
    "model = Pipeline(steps=[('preprocessor', preprocessor),\n",
    "                        ('regressor', Ridge())])  # Use Ridge here\n",
    "\n",
    "# Split the data into training and testing sets\n",
    "X_train, X_test, y_train, y_test = train_test_split(X, y, test_size=0.2, random_state=0)\n",
    "\n",
    "# Train the model\n",
    "model.fit(X_train, y_train)\n",
    "\n",
    "# Predict and evaluate the model\n",
    "y_pred = model.predict(X_test)\n",
    "print('Mean squared error (MSE):', mean_squared_error(y_test, y_pred))\n",
    "print('Coefficient of determination (R^2):', r2_score(y_test, y_pred))"
   ]
  },
  {
   "cell_type": "markdown",
   "metadata": {},
   "source": [
    "## Saving the Model\n",
    "\n",
    "We will now save the trained Ridge Regression model to a file using pickle. This will allow us to load the model directly in our Streamlit app without having to retrain it."
   ]
  },
  {
   "cell_type": "code",
   "execution_count": 68,
   "metadata": {},
   "outputs": [
    {
     "name": "stdout",
     "output_type": "stream",
     "text": [
      "Model has been saved as \"ridge_regression_model.pkl\"\n"
     ]
    }
   ],
   "source": [
    "# Save the model to a file using pickle\n",
    "with open('ridge_regression_model.pkl', 'wb') as file:\n",
    "    pickle.dump(model, file)\n",
    "\n",
    "# Confirm that the model has been saved\n",
    "print('Model has been saved as \"ridge_regression_model.pkl\"')"
   ]
  },
  {
   "cell_type": "code",
   "execution_count": null,
   "metadata": {},
   "outputs": [],
   "source": []
  }
 ],
 "metadata": {
  "kernelspec": {
   "display_name": "Python 3",
   "language": "python",
   "name": "python3"
  },
  "language_info": {
   "codemirror_mode": {
    "name": "ipython",
    "version": 3
   },
   "file_extension": ".py",
   "mimetype": "text/x-python",
   "name": "python",
   "nbconvert_exporter": "python",
   "pygments_lexer": "ipython3",
   "version": "3.9.13"
  }
 },
 "nbformat": 4,
 "nbformat_minor": 2
}
