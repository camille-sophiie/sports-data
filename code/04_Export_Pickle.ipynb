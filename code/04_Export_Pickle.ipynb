{
 "cells": [
  {
   "cell_type": "code",
   "execution_count": 2,
   "metadata": {},
   "outputs": [],
   "source": [
    "import os\n",
    "import pandas as pd"
   ]
  },
  {
   "cell_type": "code",
   "execution_count": 53,
   "metadata": {},
   "outputs": [],
   "source": [
    "# Define the path \n",
    "data_folder = 'data/'\n",
    "\n",
    "# Load the CSV files to df\n",
    "df = pd.read_csv(data_folder + 'cleaned_df.csv')"
   ]
  },
  {
   "cell_type": "code",
   "execution_count": 54,
   "metadata": {},
   "outputs": [],
   "source": [
    "features = [\n",
    "    'number_games_played',\n",
    "    'total_minutes',\n",
    "    'avg_goals_per_game',\n",
    "    'goals',\n",
    "    'assists',\n",
    "    'age',\n",
    "    'avg_games_per_year',\n",
    "    'avg_goals_per_year', \n",
    "    'position'] \n",
    "    "
   ]
  },
  {
   "cell_type": "code",
   "execution_count": 55,
   "metadata": {},
   "outputs": [],
   "source": [
    "# Ridge "
   ]
  },
  {
   "cell_type": "markdown",
   "metadata": {},
   "source": [
    "# Linear Regression"
   ]
  },
  {
   "cell_type": "code",
   "execution_count": 61,
   "metadata": {},
   "outputs": [
    {
     "name": "stdout",
     "output_type": "stream",
     "text": [
      "Missing values before dropping:\n",
      "player_id                                 0\n",
      "name                                      0\n",
      "country                                 155\n",
      "height                                  221\n",
      "foot                                    289\n",
      "position                                  0\n",
      "highest_market_value                     55\n",
      "current_club_domestic_competition_id      0\n",
      "number_games_played                       0\n",
      "total_minutes                             0\n",
      "average_minutes                           0\n",
      "yellow_cards_sum                          0\n",
      "yellow_cards_avg                          0\n",
      "red_cards_sum                             0\n",
      "red_cards_avg                             0\n",
      "goals                                     0\n",
      "avg_goals_per_game                        0\n",
      "assists                                   0\n",
      "age                                      20\n",
      "year                                      0\n",
      "avg_games_per_year                        0\n",
      "avg_goals_per_year                        0\n",
      "avg_assists_per_year                      0\n",
      "dtype: int64\n",
      "Missing values after dropping:\n",
      "player_id                               0\n",
      "name                                    0\n",
      "country                                 0\n",
      "height                                  0\n",
      "foot                                    0\n",
      "position                                0\n",
      "highest_market_value                    0\n",
      "current_club_domestic_competition_id    0\n",
      "number_games_played                     0\n",
      "total_minutes                           0\n",
      "average_minutes                         0\n",
      "yellow_cards_sum                        0\n",
      "yellow_cards_avg                        0\n",
      "red_cards_sum                           0\n",
      "red_cards_avg                           0\n",
      "goals                                   0\n",
      "avg_goals_per_game                      0\n",
      "assists                                 0\n",
      "age                                     0\n",
      "year                                    0\n",
      "avg_games_per_year                      0\n",
      "avg_goals_per_year                      0\n",
      "avg_assists_per_year                    0\n",
      "dtype: int64\n"
     ]
    }
   ],
   "source": [
    "\n",
    "# Check for missing values\n",
    "missing_values = df.isnull().sum()\n",
    "print(\"Missing values before dropping:\")\n",
    "print(missing_values)\n",
    "\n",
    "# Drop rows with any missing values\n",
    "df = df.dropna()\n",
    "\n",
    "# Check if any missing values are left\n",
    "missing_values = df_cleaned.isnull().sum()\n",
    "print(\"Missing values after dropping:\")\n",
    "print(missing_values)\n",
    "\n",
    "# Now 'df_cleaned' is the DataFrame without missing values"
   ]
  },
  {
   "cell_type": "code",
   "execution_count": 62,
   "metadata": {},
   "outputs": [
    {
     "name": "stdout",
     "output_type": "stream",
     "text": [
      "Mean squared error (MSE): 125258518644854.39\n",
      "Coefficient of determination (R^2): 0.50\n"
     ]
    }
   ],
   "source": [
    "import pandas as pd\n",
    "from sklearn.model_selection import train_test_split\n",
    "from sklearn.linear_model import LinearRegression\n",
    "from sklearn.preprocessing import OneHotEncoder\n",
    "from sklearn.compose import ColumnTransformer\n",
    "from sklearn.pipeline import Pipeline\n",
    "from sklearn.metrics import mean_squared_error, r2_score\n",
    "\n",
    "\n",
    "# Features and target\n",
    "features = [\n",
    "    'number_games_played',\n",
    "    'total_minutes',\n",
    "    'avg_goals_per_game',\n",
    "    'goals',\n",
    "    'assists',\n",
    "    'age',\n",
    "    'avg_games_per_year',\n",
    "    'avg_goals_per_year', \n",
    "    'position'\n",
    "]\n",
    "target = 'highest_market_value'  \n",
    "\n",
    "# Split data into features and target\n",
    "X = df[features]\n",
    "y = df[target]\n",
    "\n",
    "# Encode the 'position' categorical data\n",
    "categorical_features = ['position']\n",
    "numerical_features = list(set(features) - set(categorical_features))\n",
    "\n",
    "# Preprocessing for numerical data\n",
    "# (add any scaling or normalization if needed)\n",
    "numerical_transformer = 'passthrough'  # or use StandardScaler(), MinMaxScaler(), etc.\n",
    "\n",
    "# Preprocessing for categorical data\n",
    "categorical_transformer = OneHotEncoder(handle_unknown='ignore')\n",
    "\n",
    "# Bundle preprocessing for numerical and categorical data\n",
    "preprocessor = ColumnTransformer(\n",
    "    transformers=[\n",
    "        ('num', numerical_transformer, numerical_features),\n",
    "        ('cat', categorical_transformer, categorical_features)\n",
    "    ])\n",
    "\n",
    "# Create and train the model\n",
    "model = Pipeline(steps=[('preprocessor', preprocessor),\n",
    "                        ('regressor', LinearRegression())])\n",
    "\n",
    "# Split the data into training and testing sets\n",
    "X_train, X_test, y_train, y_test = train_test_split(X, y, test_size=0.2, random_state=0)\n",
    "\n",
    "# Train the model\n",
    "model.fit(X_train, y_train)\n",
    "\n",
    "# Predict and evaluate the model\n",
    "y_pred = model.predict(X_test)\n",
    "print('Mean squared error (MSE): %.2f' % mean_squared_error(y_test, y_pred))\n",
    "print('Coefficient of determination (R^2): %.2f' % r2_score(y_test, y_pred))\n",
    "\n",
    "# Use the model to make predictions\n",
    "# For example:\n",
    "# model.predict(pd.DataFrame([{'number_games_played': 10, 'total_minutes': 500, ... , 'position': 'Midfielder'}]))"
   ]
  },
  {
   "cell_type": "code",
   "execution_count": 63,
   "metadata": {},
   "outputs": [
    {
     "name": "stdout",
     "output_type": "stream",
     "text": [
      "Model has been saved as 'linear_regression_model.pkl'\n"
     ]
    }
   ],
   "source": [
    "import pickle\n",
    "\n",
    "\n",
    "# Save the model to a pickle file\n",
    "with open('linear_regression_model.pkl', 'wb') as file:\n",
    "    pickle.dump(model, file)\n",
    "\n",
    "print(\"Model has been saved as 'linear_regression_model.pkl'\")"
   ]
  },
  {
   "cell_type": "code",
   "execution_count": null,
   "metadata": {},
   "outputs": [],
   "source": []
  },
  {
   "cell_type": "markdown",
   "metadata": {},
   "source": [
    "# Ridge Regression"
   ]
  },
  {
   "cell_type": "code",
   "execution_count": 67,
   "metadata": {},
   "outputs": [
    {
     "name": "stdout",
     "output_type": "stream",
     "text": [
      "Mean squared error (MSE): 125274289739646.81\n",
      "Coefficient of determination (R^2): 0.5022027677652147\n"
     ]
    }
   ],
   "source": [
    "import pandas as pd\n",
    "from sklearn.model_selection import train_test_split\n",
    "from sklearn.linear_model import Ridge\n",
    "from sklearn.preprocessing import OneHotEncoder\n",
    "from sklearn.compose import ColumnTransformer\n",
    "from sklearn.pipeline import Pipeline\n",
    "from sklearn.metrics import mean_squared_error, r2_score\n",
    "from joblib import dump\n",
    "\n",
    "\n",
    "target = 'highest_market_value'\n",
    "\n",
    "# Split data into features and target\n",
    "X = df[features]\n",
    "y = df[target]\n",
    "\n",
    "# Encode the 'position' categorical data\n",
    "categorical_features = ['position']\n",
    "numerical_features = list(set(features) - set(categorical_features))\n",
    "\n",
    "# Preprocessing for numerical data\n",
    "numerical_transformer = 'passthrough'  # or use StandardScaler(), MinMaxScaler(), etc.\n",
    "\n",
    "# Preprocessing for categorical data\n",
    "categorical_transformer = OneHotEncoder(handle_unknown='ignore')\n",
    "\n",
    "# Bundle preprocessing for numerical and categorical data\n",
    "preprocessor = ColumnTransformer(\n",
    "    transformers=[\n",
    "        ('num', numerical_transformer, numerical_features),\n",
    "        ('cat', categorical_transformer, categorical_features)\n",
    "    ])\n",
    "\n",
    "# Create and train the Ridge Regression model\n",
    "model = Pipeline(steps=[('preprocessor', preprocessor),\n",
    "                        ('regressor', Ridge())])  # Use Ridge here\n",
    "\n",
    "# Split the data into training and testing sets\n",
    "X_train, X_test, y_train, y_test = train_test_split(X, y, test_size=0.2, random_state=0)\n",
    "\n",
    "# Train the model\n",
    "model.fit(X_train, y_train)\n",
    "\n",
    "# Predict and evaluate the model\n",
    "y_pred = model.predict(X_test)\n",
    "print('Mean squared error (MSE):', mean_squared_error(y_test, y_pred))\n",
    "print('Coefficient of determination (R^2):', r2_score(y_test, y_pred))\n"
   ]
  },
  {
   "cell_type": "code",
   "execution_count": 68,
   "metadata": {},
   "outputs": [
    {
     "name": "stdout",
     "output_type": "stream",
     "text": [
      "Model has been saved as \"ridge_regression_model.pkl\"\n"
     ]
    }
   ],
   "source": [
    "# Save the model to a file using pickle\n",
    "with open('ridge_regression_model.pkl', 'wb') as file:\n",
    "    pickle.dump(model, file)\n",
    "\n",
    "print('Model has been saved as \"ridge_regression_model.pkl\"')"
   ]
  },
  {
   "cell_type": "code",
   "execution_count": null,
   "metadata": {},
   "outputs": [],
   "source": []
  }
 ],
 "metadata": {
  "kernelspec": {
   "display_name": "Python 3",
   "language": "python",
   "name": "python3"
  },
  "language_info": {
   "codemirror_mode": {
    "name": "ipython",
    "version": 3
   },
   "file_extension": ".py",
   "mimetype": "text/x-python",
   "name": "python",
   "nbconvert_exporter": "python",
   "pygments_lexer": "ipython3",
   "version": "3.9.13"
  }
 },
 "nbformat": 4,
 "nbformat_minor": 2
}
