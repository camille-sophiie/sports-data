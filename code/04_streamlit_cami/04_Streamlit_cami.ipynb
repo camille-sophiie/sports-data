{
 "cells": [
  {
   "cell_type": "code",
   "execution_count": 7,
   "metadata": {},
   "outputs": [
    {
     "name": "stderr",
     "output_type": "stream",
     "text": [
      "<>:15: SyntaxWarning: invalid escape sequence '\\c'\n",
      "<>:15: SyntaxWarning: invalid escape sequence '\\c'\n",
      "C:\\Users\\e904176\\AppData\\Local\\Temp\\ipykernel_6304\\1739735332.py:15: SyntaxWarning: invalid escape sequence '\\c'\n",
      "  df_cleaned = pd.read_csv(new_working_directory+'\\cleaned_df.csv')\n"
     ]
    }
   ],
   "source": [
    "import pandas as pd\n",
    "from sklearn.model_selection import train_test_split\n",
    "from sklearn.linear_model import LinearRegression\n",
    "from sklearn.metrics import mean_squared_error\n",
    "import os \n",
    "import pickle\n",
    "\n",
    "\n",
    "# Define the new working directory path\n",
    "new_working_directory = r'\\Users\\e904176\\Documents\\GitHub\\sports-data\\data'\n",
    "\n",
    "# Change the current working directory\n",
    "os.chdir(new_working_directory)\n",
    "\n",
    "# Assuming you have already loaded your dataframe as df_cleaned\n",
    "df_cleaned = pd.read_csv(new_working_directory+'\\cleaned_df.csv')\n",
    "\n",
    "df_cleaned = df_cleaned.dropna()"
   ]
  },
  {
   "cell_type": "code",
   "execution_count": 8,
   "metadata": {},
   "outputs": [
    {
     "name": "stdout",
     "output_type": "stream",
     "text": [
      "Model training complete and model has been saved.\n"
     ]
    }
   ],
   "source": [
    "\n",
    "\n",
    "\n",
    "# Selecting features and target variable\n",
    "features = [\n",
    "    'age',\n",
    "    'goals',\n",
    "    'assists',\n",
    "    'total_minutes',\n",
    "    'number_games_played',\n",
    "    'avg_goals_per_game',\n",
    "    'avg_assists_per_year'\n",
    "]\n",
    "target = 'highest_market_value'\n",
    "\n",
    "# Split the data into training and test sets\n",
    "X = df_cleaned[features]\n",
    "y = df_cleaned[target]\n",
    "X_train, X_test, y_train, y_test = train_test_split(X, y, test_size=0.2, random_state=42)\n",
    "\n",
    "# Create and train the linear regression model\n",
    "model = LinearRegression()\n",
    "model.fit(X_train, y_train)\n",
    "\n",
    "# Save the model to a pickle file\n",
    "with open('linear_regression_model.pkl', 'wb') as file:\n",
    "    pickle.dump(model, file)\n",
    "\n",
    "print(\"Model training complete and model has been saved.\")"
   ]
  },
  {
   "cell_type": "code",
   "execution_count": null,
   "metadata": {},
   "outputs": [],
   "source": []
  }
 ],
 "metadata": {
  "kernelspec": {
   "display_name": "Python 3",
   "language": "python",
   "name": "python3"
  },
  "language_info": {
   "codemirror_mode": {
    "name": "ipython",
    "version": 3
   },
   "file_extension": ".py",
   "mimetype": "text/x-python",
   "name": "python",
   "nbconvert_exporter": "python",
   "pygments_lexer": "ipython3",
   "version": "3.12.2"
  }
 },
 "nbformat": 4,
 "nbformat_minor": 2
}
